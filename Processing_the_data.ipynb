{
  "cells": [
    {
      "cell_type": "markdown",
      "metadata": {
        "id": "view-in-github",
        "colab_type": "text"
      },
      "source": [
        "<a href=\"https://colab.research.google.com/github/hukim1112/one-day-LLM-FT/blob/main/Processing_the_data.ipynb\" target=\"_parent\"><img src=\"https://colab.research.google.com/assets/colab-badge.svg\" alt=\"Open In Colab\"/></a>"
      ]
    },
    {
      "cell_type": "markdown",
      "metadata": {
        "id": "4h_ZQD4bgtoW"
      },
      "source": [
        "Transformers, Datasets, and Evaluate 라이브러리를 설치합니다."
      ]
    },
    {
      "cell_type": "code",
      "execution_count": null,
      "metadata": {
        "id": "kNkJfkp7gtoX"
      },
      "outputs": [],
      "source": [
        "!pip install datasets evaluate transformers[sentencepiece]"
      ]
    },
    {
      "cell_type": "markdown",
      "source": [
        "Huggingface 모델을 로드할 때 적절한 AutoModel의 클래스를 선택하면 아래 예시 코드에서와 같이 학습을 위한 loss를 계산하고 역전파할 수 있습니다. 이런 편리한 인터페이스를 활용하기 위해 Huggingface에서 약속된 데이터 형식을 사용할 필요가 있습니다."
      ],
      "metadata": {
        "id": "OkFZiwh-WAQA"
      }
    },
    {
      "cell_type": "code",
      "execution_count": null,
      "metadata": {
        "id": "BcWM2zA1gtoY"
      },
      "outputs": [],
      "source": [
        "import torch\n",
        "from transformers import AdamW, AutoTokenizer, AutoModelForSequenceClassification\n",
        "\n",
        "# Same as before\n",
        "checkpoint = \"bert-base-uncased\"\n",
        "tokenizer = AutoTokenizer.from_pretrained(checkpoint)\n",
        "model = AutoModelForSequenceClassification.from_pretrained(checkpoint)\n",
        "sequences = [\n",
        "    \"I've been waiting for a HuggingFace course my whole life.\",\n",
        "    \"This course is amazing!\",\n",
        "]\n",
        "batch = tokenizer(sequences, padding=True, truncation=True, return_tensors=\"pt\")\n",
        "\n",
        "# This is new\n",
        "batch[\"labels\"] = torch.tensor([1, 1])\n",
        "\n",
        "optimizer = AdamW(model.parameters())\n",
        "loss = model(**batch).loss\n",
        "loss.backward()\n",
        "optimizer.step()"
      ]
    },
    {
      "cell_type": "markdown",
      "source": [
        "# Processing the data"
      ],
      "metadata": {
        "id": "oF-bfFW9WXEf"
      }
    },
    {
      "cell_type": "markdown",
      "source": [
        "이 코드는 HuggingFace의 datasets 라이브러리를 사용하여 GLUE 데이터셋의 하나인 MRPC(Microsoft Research Paraphrase Corpus)를 로드하고, Transformer 모델을 사용하기 위해 데이터를 토크나이징(tokenizing)하는 과정에 대한 예제를 보여줍니다."
      ],
      "metadata": {
        "id": "fqzLnawrWU35"
      }
    },
    {
      "cell_type": "code",
      "execution_count": null,
      "metadata": {
        "id": "-xRI-K4YgtoY"
      },
      "outputs": [],
      "source": [
        "from datasets import load_dataset\n",
        "\n",
        "raw_datasets = load_dataset(\"glue\", \"mrpc\") #load_dataset 함수를 사용하여 GLUE 데이터셋 중 MRPC 데이터를 로드\n",
        "raw_datasets"
      ]
    },
    {
      "cell_type": "code",
      "execution_count": null,
      "metadata": {
        "id": "vpdO_hKigtoZ"
      },
      "outputs": [],
      "source": [
        "raw_train_dataset = raw_datasets[\"train\"]\n",
        "raw_train_dataset[0] #훈련 데이터셋의 첫 번째 샘플을 확인"
      ]
    },
    {
      "cell_type": "code",
      "execution_count": null,
      "metadata": {
        "id": "1rf6VOB3gtoZ"
      },
      "outputs": [],
      "source": [
        "raw_train_dataset.features #훈련 데이터셋의 각 샘플의 특성(feature)들을 확인\n",
        "# 문장1, 문장2, 연관성 레이블 0 or 1, 데이터 index"
      ]
    },
    {
      "cell_type": "code",
      "execution_count": null,
      "metadata": {
        "id": "PlbDaSsLgtoa"
      },
      "outputs": [],
      "source": [
        "from transformers import AutoTokenizer\n",
        "\n",
        "checkpoint = \"bert-base-uncased\"\n",
        "tokenizer = AutoTokenizer.from_pretrained(checkpoint)"
      ]
    },
    {
      "cell_type": "code",
      "execution_count": null,
      "metadata": {
        "id": "MAyotGJLgtoa"
      },
      "outputs": [],
      "source": [
        "inputs = tokenizer(\"This is the first sentence.\", \"This is the second one.\")\n",
        "inputs"
      ]
    },
    {
      "cell_type": "code",
      "execution_count": null,
      "metadata": {
        "id": "PwJCd7j6gtoa"
      },
      "outputs": [],
      "source": [
        "tokenizer.convert_ids_to_tokens(inputs[\"input_ids\"])"
      ]
    },
    {
      "cell_type": "markdown",
      "source": [
        "tokenizer 객체는 두 개의 문장 묶음을 받았을 때, 자동으로 연결하여 토큰화하는 기능을 가지고 있습니다. transformers 라이브러리의 AutoTokenizer 클래스는 두 개의 입력 문장을 [CLS] sentence1 [SEP] sentence2 [SEP] 형식으로 결합하여 토큰화합니다."
      ],
      "metadata": {
        "id": "1uJNYZ2fUAq3"
      }
    },
    {
      "cell_type": "code",
      "source": [
        "tokenized_sentences_1 = tokenizer(raw_datasets[\"train\"][\"sentence1\"])\n",
        "tokenized_sentences_2 = tokenizer(raw_datasets[\"train\"][\"sentence2\"])"
      ],
      "metadata": {
        "id": "HK5IvychTx9J"
      },
      "execution_count": null,
      "outputs": []
    },
    {
      "cell_type": "code",
      "execution_count": null,
      "metadata": {
        "id": "SIDoG6X_gtob"
      },
      "outputs": [],
      "source": [
        "tokenized_dataset = tokenizer(\n",
        "    raw_datasets[\"train\"][\"sentence1\"],\n",
        "    raw_datasets[\"train\"][\"sentence2\"],\n",
        "    padding=True,\n",
        "    truncation=True,\n",
        ")"
      ]
    },
    {
      "cell_type": "code",
      "source": [
        "tokenized_dataset['input_ids'][0] #첫 번째 데이터의 토큰 시퀀스를 살펴봅니다."
      ],
      "metadata": {
        "id": "Mcj_0LEoT0bl"
      },
      "execution_count": null,
      "outputs": []
    },
    {
      "cell_type": "markdown",
      "source": [
        "실제로는 map 함수를 사용해서 일괄처리하는 것이 더 효율적일 수 있습니다."
      ],
      "metadata": {
        "id": "01PvPx2tT7JH"
      }
    },
    {
      "cell_type": "code",
      "execution_count": null,
      "metadata": {
        "id": "ZNGI2cjpgtob"
      },
      "outputs": [],
      "source": [
        "def tokenize_function(example):\n",
        "    return tokenizer(example[\"sentence1\"], example[\"sentence2\"], truncation=True)"
      ]
    },
    {
      "cell_type": "code",
      "execution_count": null,
      "metadata": {
        "id": "jUYTAhCngtob"
      },
      "outputs": [],
      "source": [
        "tokenized_datasets = raw_datasets.map(tokenize_function, batched=True)\n",
        "tokenized_datasets"
      ]
    },
    {
      "cell_type": "markdown",
      "source": [
        "DataCollator\n",
        "\n",
        "우리는 앞서 'Training a causal language model' 예제에서 DataCollator를 활용해 학습 데이터를 처리했습니다. DataCollator는 Hugging Face의 transformers 라이브러리에서 제공하는 일종의 유틸리티로, 머신 러닝 특히 자연어 처리(NLP) 모델 학습에 사용되는 데이터를 적절히 준비하고 조정하는 데 중요한 역할을 합니다.\n",
        "\n",
        "- 배치 생성: 다수의 데이터 샘플을 하나의 배치로 묶는 역할을 합니다. 이 과정에서 각 샘플의 크기나 형태를 조정하여 모든 샘플이 일정한 형식을 가지도록 만듭니다. 자연어 처리에서 데이터 샘플은 문장이나 문서와 같이 길이가 제각각일 수 있습니다. DataCollator는 가장 긴 샘플을 기준으로 나머지 샘플에 패딩(padding)을 추가해 길이를 통일시키는 작업을 수행합니다. 패딩은 모델이 배치 처리를 효율적으로 수행할 수 있게 해 줍니다.\n",
        "\n",
        "- 라벨 형성: 특정 타입의 DataCollator는 데이터를 변형시키고, 학습 문제에 맞는 레이블을 추가하는 기능을 가지고 있습니다. 예를 들어, DataCollatorForLanguageModeling은 데이터 내의 토큰을 무작위로 마스킹하여 마스크드 언어 모델링(Masked Language Modeling, MLM) 작업에 적합한 형태로 만듭니다.\n",
        "\n",
        "\n",
        "\n",
        "\n",
        "DataCollator의 대표적인 유형은 아래와 같습니다.\n",
        "\n",
        "\n",
        "- DataCollatorWithPadding: 토크나이저와 함께 사용되며, 토큰화된 입력을 패딩하여 모든 입력이 같은 길이를 가지도록 합니다. 주로 일반적인 분류나 회귀 태스크에 사용됩니다.\n",
        "\n",
        "- DataCollatorForTokenClassification: 토큰 분류 태스크에 사용되며, 입력 데이터의 모든 토큰에 레이블을 할당합니다. 예를 들어, Named Entity Recognition(NER) 태스크에 사용됩니다.\n",
        "\n",
        "- DataCollatorForLanguageModeling: 언어 모델링 태스크에 사용되며, 입력 데이터의 일부 토큰을 무작위로 마스크하고 이를 예측하는 학습을 위해 사용됩니다. BERT의 MLM, GPT의 CLM 학습에 자주 사용됩니다.\n",
        "\n",
        "\n",
        "DataCollator에 대한 좋은 [아티클](https://medium.com/towards-data-science/data-collators-in-huggingface-a0c76db798d2)을 추천합니다."
      ],
      "metadata": {
        "id": "lpxMBuauWjIO"
      }
    },
    {
      "cell_type": "code",
      "execution_count": null,
      "metadata": {
        "id": "xhDCd7apgtob"
      },
      "outputs": [],
      "source": [
        "from transformers import DataCollatorWithPadding\n",
        "\n",
        "data_collator = DataCollatorWithPadding(tokenizer=tokenizer)"
      ]
    },
    {
      "cell_type": "code",
      "execution_count": null,
      "metadata": {
        "id": "bFhYYTdfgtob"
      },
      "outputs": [],
      "source": [
        "samples = tokenized_datasets[\"train\"][:8]\n",
        "samples = {k: v for k, v in samples.items() if k not in [\"idx\", \"sentence1\", \"sentence2\"]}\n",
        "[len(x) for x in samples[\"input_ids\"]]"
      ]
    },
    {
      "cell_type": "code",
      "execution_count": null,
      "metadata": {
        "id": "ogwx9_5Qgtoc"
      },
      "outputs": [],
      "source": [
        "batch = data_collator(samples)\n",
        "{k: v.shape for k, v in batch.items()}"
      ]
    },
    {
      "cell_type": "code",
      "source": [],
      "metadata": {
        "id": "xb-MTY4zdWQt"
      },
      "execution_count": null,
      "outputs": []
    },
    {
      "cell_type": "markdown",
      "source": [
        "# Data handling\n",
        "\n",
        "우리의 데이터는 대부분의 경우 모델을 훈련하기 위해 완벽하게 준비되지 않습니다. 이 섹션에서는 Datasets가 여러분의 데이터 세트를 정리하기 위해 제공하는 다양한 기능을 살펴보겠습니다.\n",
        "\n",
        "\n",
        "Pandas와 비슷하게 🤗 Datasets는 데이터 내용을 조작하는 여러 함수를 제공합니다.  우리는 앞서 Dataset.map() 방식을 활용했습니다.이 섹션에서는 우리가 사용할 수 있는 다른 함수들을 살펴보겠습니다."
      ],
      "metadata": {
        "id": "2rnNwBQoUlwR"
      }
    },
    {
      "cell_type": "markdown",
      "source": [
        "먼저 wget과 unzip 명령어를 사용하여 데이터를 다운로드하고 압축을 풀어야 합니다.\n",
        "\n",
        "\n",
        "\n",
        "\n",
        "\n",
        "\n"
      ],
      "metadata": {
        "id": "qBFS_xAMyICl"
      }
    },
    {
      "cell_type": "code",
      "execution_count": null,
      "metadata": {
        "id": "WWzZF0eoxlW4"
      },
      "outputs": [],
      "source": [
        "!wget \"https://archive.ics.uci.edu/ml/machine-learning-databases/00462/drugsCom_raw.zip\"\n",
        "!unzip drugsCom_raw.zip"
      ]
    },
    {
      "cell_type": "markdown",
      "source": [
        "TSV는 구분자로 쉼표 대신 탭을 사용하는 CSV의 변형이기 때문에, csv 로딩 스크립트를 사용하고 load_dataset() 함수에서 delimiter 인자를 다음과 같이 지정하여 이 파일들을 로드할 수 있습니다"
      ],
      "metadata": {
        "id": "ONhkiuy1yUXv"
      }
    },
    {
      "cell_type": "code",
      "execution_count": null,
      "metadata": {
        "id": "HjjA0F30xlW5"
      },
      "outputs": [],
      "source": [
        "from datasets import load_dataset\n",
        "\n",
        "data_files = {\"train\": \"drugsComTrain_raw.tsv\", \"test\": \"drugsComTest_raw.tsv\"}\n",
        "# \\t is the tab character in Python\n",
        "drug_dataset = load_dataset(\"csv\", data_files=data_files, delimiter=\"\\t\")"
      ]
    },
    {
      "cell_type": "code",
      "execution_count": null,
      "metadata": {
        "id": "6oceiGh_xlW5"
      },
      "outputs": [],
      "source": [
        "drug_sample = drug_dataset[\"train\"].shuffle(seed=42).select(range(1000))\n",
        "# Peek at the first few examples\n",
        "drug_sample[:3]"
      ]
    },
    {
      "cell_type": "markdown",
      "source": [
        "##### 세 개의 리뷰 샘플 내용\n",
        "\n",
        "{ '이름 없음: 0' : [ 87571 , 178045 , 80482 ],\n",
        "\n",
        "  '약물 이름' : [ '나프록센' , '둘록세틴' , '모빅' ],\n",
        "\n",
        "  '상태' : [ '급성 통풍' , '근육통' , '염증 상태' ],\n",
        "\n",
        "  '리뷰' : [ '\"이전에 언급했던 사람처럼, 저는 알레브를 강력히 믿습니다. 제가 복용하는 처방약보다 통풍에 더 빨리 효과가 나타납니다. 더 이상 처방을 받기 위해 의사에게 갈 필요가 없습니다.....알레브는 효과가 있습니다!\"' ,\n",
        "   '\"저는 섬유근육통 통증을 위해 약 1년 반 동안 심발타를 복용했습니다. 진통제이자 항우울제로서 매우 효과적이지만, 부작용이 제가 얻은 이점을 능가했습니다. 저는 불안함과 피곤함에 문제가 있었습니다. 끊임없이, \\r\\dizziness, 건조한 입, 발의 마비와 따끔거림, 끔찍한 땀. 지금 \\r\\n끊고 있습니다. 60mg에서 30mg으로, 지금은 15mg으로 줄였습니다. 일주일 정도면 완전히 끊을 겁니다. 섬유성 통증이 돌아오고 있지만, 부작용보다는 그 통증을 참는 게 낫겠어요.\"' ,\n",
        "   '\"저는 1년 이상 Mobic을 복용했는데 혈압 상승 외에는 부작용이 없었습니다. 무릎과 발목에 심한 통증이 있었는데 Mobic을 복용한 후 완전히 사라졌습니다. 나는 약을 끊으려고 시도했지만 며칠 후에 통증이 돌아왔습니다.\"' ],\n",
        "\n",
        "  'rating' : [ 9.0 , 3.0 , 10.0 ],\n",
        "\n",
        "  'date' : [ '2015년 9월 2일' , '2011년 11월 7일' , '2013년 6월 5일' ],\n",
        "  \n",
        "  'usefulCount' : [ 36 , 13 , 128 ]}\n",
        "\n"
      ],
      "metadata": {
        "id": "VaV1pBwtU6Je"
      }
    },
    {
      "cell_type": "markdown",
      "source": [
        " *'Unnamed: 0' 열은 각 환자의 익명화된 ID처럼 보입니다.\n",
        "'condition' 열에는 대문자와 소문자가 혼합된 레이블이 포함되어 있습니다.\n",
        "리뷰는 길이가 다양하며 파이썬 줄 구분자 (\\r\\n)와 HTML 문자 코드(') 등이 혼합되어 있습니다.*"
      ],
      "metadata": {
        "id": "B8rCXfwNW9t1"
      }
    },
    {
      "cell_type": "markdown",
      "source": [
        "##### 특징 이름 변경"
      ],
      "metadata": {
        "id": "jrrvEoWuXLDI"
      }
    },
    {
      "cell_type": "markdown",
      "source": [
        "Datasets를 사용하여 이러한 문제들을 어떻게 다룰 수 있는지 알아봅시다. 'Unnamed: 0' 열이 환자 ID라는 가설을 검증하기 위해, Dataset.unique() 함수를 사용하여 각 분할에서 ID의 수가 행의 수와 일치하는지 확인할 수 있습니다"
      ],
      "metadata": {
        "id": "m9MBLEFOyp30"
      }
    },
    {
      "cell_type": "code",
      "execution_count": null,
      "metadata": {
        "id": "1X8U6eglxlW5"
      },
      "outputs": [],
      "source": [
        "for split in drug_dataset.keys():\n",
        "    assert len(drug_dataset[split]) == len(drug_dataset[split].unique(\"Unnamed: 0\"))"
      ]
    },
    {
      "cell_type": "markdown",
      "source": [
        "이는 우리의 가설을 확인하는 것 같으므로 데이터셋을 조금 정리하여 'Unnamed: 0' 열을 좀 더 이해하기 쉬운 이름으로 변경합시다. DatasetDict.rename_column() 함수를 사용하여 한 번에 두 split에서 열의 이름을 변경할 수 있습니다:"
      ],
      "metadata": {
        "id": "PscrVYm6y2Dc"
      }
    },
    {
      "cell_type": "code",
      "execution_count": null,
      "metadata": {
        "id": "m_ioTlPMxlW6"
      },
      "outputs": [],
      "source": [
        "drug_dataset = drug_dataset.rename_column(\n",
        "    original_column_name=\"Unnamed: 0\", new_column_name=\"patient_id\"\n",
        ")\n",
        "drug_dataset"
      ]
    },
    {
      "cell_type": "markdown",
      "source": [
        "##### map 함수를 사용한 전처리"
      ],
      "metadata": {
        "id": "7olJp-mYXQdH"
      }
    },
    {
      "cell_type": "markdown",
      "source": [
        "다음으로, Dataset.map()을 사용하여 모든 조건 레이블을 정규화합시다. 3장에서 토큰화를 수행했던 것처럼, drug_dataset의 각 분할의 모든 행에 적용할 수 있는 간단한 함수를 정의할 수 있습니다:"
      ],
      "metadata": {
        "id": "GOlB_9RKzHTH"
      }
    },
    {
      "cell_type": "code",
      "source": [
        "drug_dataset['train']"
      ],
      "metadata": {
        "id": "OvCpvck1vprD"
      },
      "execution_count": null,
      "outputs": []
    },
    {
      "cell_type": "code",
      "execution_count": null,
      "metadata": {
        "id": "WhEh-9e1xlW6"
      },
      "outputs": [],
      "source": [
        "def lowercase_condition(example):\n",
        "    return {\"condition\": example[\"condition\"].lower()}\n",
        "\n",
        "\n",
        "drug_dataset.map(lowercase_condition)"
      ]
    },
    {
      "cell_type": "markdown",
      "source": [
        "앗, map 함수에서 문제가 발생했네요! 에러에서 조건 열의 일부 항목이 None이라는 것을 추론할 수 있습니다. 이들은 문자열이 아니기 때문에 소문자로 변경할 수 없습니다. Dataset.filter()를 사용하여 이러한 행들을 제거합시다. 이 함수는 Dataset.map()과 비슷하게 작동하며, 데이터셋의 단일 예를 받는 함수를 기대합니다."
      ],
      "metadata": {
        "id": "KJCx0EivzQdk"
      }
    },
    {
      "cell_type": "code",
      "execution_count": null,
      "metadata": {
        "id": "PE24_p2gxlW6"
      },
      "outputs": [],
      "source": [
        "def filter_nones(x):\n",
        "    return x[\"condition\"] is not None"
      ]
    },
    {
      "cell_type": "code",
      "execution_count": null,
      "metadata": {
        "id": "K19cwHe9xlW6"
      },
      "outputs": [],
      "source": [
        "(lambda x: x * x)(3)"
      ]
    },
    {
      "cell_type": "code",
      "execution_count": null,
      "metadata": {
        "id": "UMJiROUxxlW6"
      },
      "outputs": [],
      "source": [
        "(lambda base, height: 0.5 * base * height)(4, 8)"
      ]
    },
    {
      "cell_type": "code",
      "execution_count": null,
      "metadata": {
        "id": "33G3ToSUxlW6"
      },
      "outputs": [],
      "source": [
        "drug_dataset = drug_dataset.filter(lambda x: x[\"condition\"] is not None)"
      ]
    },
    {
      "cell_type": "code",
      "execution_count": null,
      "metadata": {
        "id": "SfoxL-RsxlW7"
      },
      "outputs": [],
      "source": [
        "drug_dataset = drug_dataset.map(lowercase_condition)\n",
        "# Check that lowercasing worked\n",
        "drug_dataset[\"train\"][\"condition\"][:3]"
      ]
    },
    {
      "cell_type": "markdown",
      "source": [
        "##### 새로운 특징 추가"
      ],
      "metadata": {
        "id": "Bg4nbnkFXcZS"
      }
    },
    {
      "cell_type": "markdown",
      "source": [
        "고객 리뷰를 다룰 때 좋은 관행은 각 리뷰의 단어 수를 확인하는 것입니다. 리뷰는 \"Great!\"과 같은 단어 하나일 수도 있고, 수천 단어의 긴 에세이일 수도 있으며, 사용 사례에 따라 이러한 극단적인 경우를 다르게 처리해야 할 수 있습니다. 각 리뷰의 단어 수를 계산하기 위해, 우리는 공백으로 텍스트를 분할하는 대략적인 추정법을 사용할 것입니다.\n",
        "\n",
        "각 리뷰의 단어 수를 세는 간단한 함수를 정의합시다:"
      ],
      "metadata": {
        "id": "tZY5_lxEzeKr"
      }
    },
    {
      "cell_type": "code",
      "execution_count": null,
      "metadata": {
        "id": "vd3gSgvAxlW7"
      },
      "outputs": [],
      "source": [
        "def compute_review_length(example):\n",
        "    return {\"review_length\": len(example[\"review\"].split())}"
      ]
    },
    {
      "cell_type": "code",
      "execution_count": null,
      "metadata": {
        "id": "NJgy64j_xlW7"
      },
      "outputs": [],
      "source": [
        "drug_dataset = drug_dataset.map(compute_review_length)\n",
        "# Inspect the first training example\n",
        "drug_dataset[\"train\"][0]"
      ]
    },
    {
      "cell_type": "markdown",
      "source": [
        "예상대로, 우리의 훈련 세트에 review_length 열이 추가되었습니다. 이 새로운 열을 Dataset.sort()를 사용하여 정렬함으로써 극단적인 값들이 어떻게 보이는지 확인할 수 있습니다:"
      ],
      "metadata": {
        "id": "NBz03dPgz-FA"
      }
    },
    {
      "cell_type": "code",
      "execution_count": null,
      "metadata": {
        "id": "57EcDiq8xlW7"
      },
      "outputs": [],
      "source": [
        "drug_dataset[\"train\"].sort(\"review_length\")[:3]"
      ]
    },
    {
      "cell_type": "markdown",
      "source": [
        "우리가 의심했듯이, 일부 리뷰는 단어 하나만 포함하고 있습니다. 이는 감정 분석에는 괜찮을 수 있지만, 우리가 질병을 예측하고자 할 때에는 충분한 정보를 제공하지 않을 수 있습니다."
      ],
      "metadata": {
        "id": "KpxBDxBT0Ffv"
      }
    },
    {
      "cell_type": "markdown",
      "source": [
        "##### 조건부 데이터 제거"
      ],
      "metadata": {
        "id": "q4sOpuuAXmBh"
      }
    },
    {
      "cell_type": "markdown",
      "source": [
        "Dataset.filter() 함수를 사용하여 30단어 미만의 리뷰를 제거합시다. 조건 열을 다루었던 것과 유사하게, 이 기준 이상의 길이를 가진 리뷰만 남기도록 매우 짧은 리뷰들을 필터링할 수 있습니다:"
      ],
      "metadata": {
        "id": "Riin0QPR0L5e"
      }
    },
    {
      "cell_type": "code",
      "execution_count": null,
      "metadata": {
        "id": "DIDsm59vxlW7"
      },
      "outputs": [],
      "source": [
        "drug_dataset = drug_dataset.filter(lambda x: x[\"review_length\"] > 30)\n",
        "print(drug_dataset.num_rows)"
      ]
    },
    {
      "cell_type": "markdown",
      "source": [
        "마지막으로 다뤄야 할 것은 리뷰에 포함된 HTML 문자 코드의 존재입니다. Python의 html 모듈을 사용하여 이러한 문자들을 변환(unescape)할 수 있습니다. 다음과 같이 할 수 있습니다:"
      ],
      "metadata": {
        "id": "WZnLwqdA0QH2"
      }
    },
    {
      "cell_type": "code",
      "execution_count": null,
      "metadata": {
        "id": "Kk4MLWV7xlW7"
      },
      "outputs": [],
      "source": [
        "import html\n",
        "\n",
        "text = \"I&#039;m a transformer called BERT\"\n",
        "html.unescape(text)"
      ]
    },
    {
      "cell_type": "code",
      "execution_count": null,
      "metadata": {
        "id": "Sg6rtfuexlW7"
      },
      "outputs": [],
      "source": [
        "drug_dataset = drug_dataset.map(lambda x: {\"review\": html.unescape(x[\"review\"])})"
      ]
    },
    {
      "cell_type": "markdown",
      "source": [
        "##### map() 메서드 가속하기\n",
        "\n",
        "Dataset.map() 메서드는 데이터를 변환하거나 전처리하는 데 매우 유용한 도구입니다. 이 메서드는 batched라는 인자를 받을 수 있는데, 이를 True로 설정하면 여러 예제를 한 번에 처리할 수 있습니다. 기본 배치 크기는 1,000이지만, 필요에 따라 조정할 수 있습니다.\n",
        "\n",
        "예를 들어, 이전의 모든 HTML을 변환하는 작업을 생각해 봅시다. 단일 예제를 하나씩 처리하는 것보다 여러 예제를 한 번에 처리하면 훨씬 빠르게 작업을 완료할 수 있습니다."
      ],
      "metadata": {
        "id": "EOixVLSn0X46"
      }
    },
    {
      "cell_type": "code",
      "execution_count": null,
      "metadata": {
        "id": "IfTnTYzNxlW7"
      },
      "outputs": [],
      "source": [
        "new_drug_dataset = drug_dataset.map(\n",
        "    lambda x: {\"review\": [html.unescape(o) for o in x[\"review\"]]}, batched=True\n",
        ")"
      ]
    },
    {
      "cell_type": "markdown",
      "source": [
        "이 코드를 실행하면, 이 명령어가 이전 명령어보다 훨씬 빨리 실행되는 것을 볼 수 있습니다. 이는 우리의 리뷰가 이미 HTML 문자가 변환되었기 때문이 아니라 — 이전 섹션의 지시사항을 batched=True 없이 다시 실행하면, 이전과 같은 시간이 걸립니다. 이는 일반적으로 리스트 표기법이 for 루프에서 동일한 코드를 실행하는 것보다 빠르기 때문이며, 동시에 많은 요소를 접근함으로써 성능을 향상시키기 때문입니다."
      ],
      "metadata": {
        "id": "FZtaS9DM0shV"
      }
    },
    {
      "cell_type": "code",
      "execution_count": null,
      "metadata": {
        "id": "OGBqNcSnxlW8"
      },
      "outputs": [],
      "source": [
        "from transformers import AutoTokenizer\n",
        "\n",
        "tokenizer = AutoTokenizer.from_pretrained(\"bert-base-cased\")\n",
        "\n",
        "\n",
        "def tokenize_function(examples):\n",
        "    return tokenizer(examples[\"review\"], truncation=True)"
      ]
    },
    {
      "cell_type": "markdown",
      "source": [
        "시간측정 가능"
      ],
      "metadata": {
        "id": "KyZCJF1B1UiS"
      }
    },
    {
      "cell_type": "code",
      "execution_count": null,
      "metadata": {
        "id": "yAn63fBFxlW8"
      },
      "outputs": [],
      "source": [
        "%time tokenized_dataset = drug_dataset.map(tokenize_function, batched=True)"
      ]
    },
    {
      "cell_type": "markdown",
      "source": [
        "![image.png](data:image/png;base64,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)"
      ],
      "metadata": {
        "id": "k33c2XP913YP"
      }
    },
    {
      "cell_type": "markdown",
      "source": [
        "Fast 토크나이저는 Rust 프로그래밍 언어로 작성되어 매우 빠릅니다!\n",
        "\n",
        "아래처럼 Fast 토크나이저를 쓰지 않으면 느립니다."
      ],
      "metadata": {
        "id": "UenA7Ghc2Ay8"
      }
    },
    {
      "cell_type": "code",
      "execution_count": null,
      "metadata": {
        "id": "KpQ_kpuExlW8"
      },
      "outputs": [],
      "source": [
        "# slow_tokenizer = AutoTokenizer.from_pretrained(\"bert-base-cased\", use_fast=False)\n",
        "\n",
        "\n",
        "# def slow_tokenize_function(examples):\n",
        "#     return slow_tokenizer(examples[\"review\"], truncation=True)\n",
        "\n",
        "\n",
        "# tokenized_dataset = drug_dataset.map(slow_tokenize_function, batched=True, num_proc=8)"
      ]
    },
    {
      "cell_type": "markdown",
      "source": [
        "##### 토크나이징 in map()"
      ],
      "metadata": {
        "id": "dkk6K_MxZyJB"
      }
    },
    {
      "cell_type": "markdown",
      "source": [
        "토크나이징 과정을 살펴봅시다! 여기서는 예제를 토크나이즈하고 최대 길이 128로 자르겠지만, 첫 번째 조각만이 아닌 텍스트의 모든 조각을 반환하도록 토크나이저에 요청할 것입니다. 이는 return_overflowing_tokens=True 옵션을 사용하여 수행할 수 있습니다.\n",
        "\n",
        "이 옵션을 활성화하면, 주어진 최대 길이를 초과하는 긴 텍스트가 여러 토큰 조각으로 나뉘어 반환됩니다. 각 조각은 독립적으로 처리될 수 있으며, 이는 특히 긴 문서를 분석할 때 유용합니다. 예를 들어, 뉴스 기사나 연구 논문과 같이 긴 텍스트를 다뤄야 할 때, 전체 내용을 분석하지 않고 일부만을 처리하는 문제를 해결할 수 있습니다."
      ],
      "metadata": {
        "id": "6Vhn0xoW2Z6r"
      }
    },
    {
      "cell_type": "code",
      "execution_count": null,
      "metadata": {
        "id": "PiFIF1aoxlW8"
      },
      "outputs": [],
      "source": [
        "def tokenize_and_split(examples):\n",
        "    return tokenizer(\n",
        "        examples[\"review\"],\n",
        "        truncation=True,\n",
        "        max_length=128,\n",
        "        return_overflowing_tokens=True,\n",
        "    )"
      ]
    },
    {
      "cell_type": "code",
      "execution_count": null,
      "metadata": {
        "id": "7h5y96JJxlW8"
      },
      "outputs": [],
      "source": [
        "result = tokenize_and_split(drug_dataset[\"train\"][1])\n",
        "[len(inp) for inp in result[\"input_ids\"]]"
      ]
    },
    {
      "cell_type": "code",
      "execution_count": null,
      "metadata": {
        "id": "sot-lCK2xlW8"
      },
      "outputs": [],
      "source": [
        "tokenized_dataset = drug_dataset.map(tokenize_and_split, batched=True)"
      ]
    },
    {
      "cell_type": "markdown",
      "source": [
        "앗, 작동하지 않았네요! 왜 그럴까요? 오류 메시지를 보면 힌트를 얻을 수 있습니다: 한 열의 길이가 1,463이고 다른 열의 길이가 1,000인데 길이가 일치하지 않습니다. Dataset.map() 문서를 살펴보셨다면, 매핑하는 함수에 전달된 샘플 수가 문제임을 기억하실 겁니다; 여기서 1,000개의 예제가 1,463개의 새로운 특성을 생성하여 형태 오류가 발생했습니다.\n",
        "\n",
        "문제는 두 개의 서로 다른 크기의 데이터셋을 혼합하려고 한다는 것입니다: drug_dataset의 열은 일정한 수의 예제를 가질 것입니다(우리의 오류에서 1,000개), 하지만 우리가 만들고 있는 tokenized_dataset은 더 많을 것입니다(오류 메시지에서 1,463개; return_overflowing_tokens=True를 사용하여 긴 리뷰를 여러 예제로 토크나이징하기 때문에 1,000개보다 많습니다). 이는 Dataset에 적합하지 않으므로,\n",
        "\n",
        "(1) 이전 데이터셋에서 열을 제거하거나 (2) 새 데이터셋과 같은 크기로 만들어야 합니다."
      ],
      "metadata": {
        "id": "WTI7Ho1A3dcl"
      }
    },
    {
      "cell_type": "markdown",
      "source": [
        "우리는 remove_columns 인자를 사용하여 (1)을 수행할 수 있습니다:"
      ],
      "metadata": {
        "id": "SqCemPxTbLWk"
      }
    },
    {
      "cell_type": "code",
      "execution_count": null,
      "metadata": {
        "id": "mCmx-B-pxlW8"
      },
      "outputs": [],
      "source": [
        "tokenized_dataset = drug_dataset.map(\n",
        "    tokenize_and_split, batched=True, remove_columns=drug_dataset[\"train\"].column_names\n",
        ")"
      ]
    },
    {
      "cell_type": "code",
      "execution_count": null,
      "metadata": {
        "id": "Myb_jTooxlW8"
      },
      "outputs": [],
      "source": [
        "len(tokenized_dataset[\"train\"]), len(drug_dataset[\"train\"])"
      ]
    },
    {
      "cell_type": "code",
      "source": [
        "tokenized_dataset"
      ],
      "metadata": {
        "id": "bZozRIDa4p2v"
      },
      "execution_count": null,
      "outputs": []
    },
    {
      "cell_type": "markdown",
      "source": [
        "우리는 또한 (2) 새로운 열과 같은 크기로 오래된 열을 만들어 길이 불일치 문제를 해결할 수 있다고 언급했습니다. 이를 수행하기 위해서는 return_overflowing_tokens=True를 설정했을 때 토크나이저가 반환하는 overflow_to_sample_mapping 필드가 필요합니다. 이 필드는 새로운 특성 인덱스와 그것이 원래 있던 샘플의 인덱스를 연결해 줍니다. 이를 사용하여, 원본 데이터셋에 있는 각 키를 적절한 크기의 값 목록과 연결할 수 있습니다. 이는 각 예제의 값을 새로운 특성을 생성하는 만큼 반복함으로써 수행됩니다.\n",
        "\n",
        "\n",
        "\n",
        "\n",
        "\n",
        "\n"
      ],
      "metadata": {
        "id": "RcJfsg1d4IZr"
      }
    },
    {
      "cell_type": "code",
      "execution_count": null,
      "metadata": {
        "id": "qbYUDhUrxlW8"
      },
      "outputs": [],
      "source": [
        "def tokenize_and_split(examples):\n",
        "    result = tokenizer(\n",
        "        examples[\"review\"],\n",
        "        truncation=True,\n",
        "        max_length=128,\n",
        "        return_overflowing_tokens=True,\n",
        "    )\n",
        "    # 새로운 인덱스와 원래 인덱스 간의 매핑 추출\n",
        "    sample_map = result.pop(\"overflow_to_sample_mapping\")\n",
        "    for key, values in examples.items():\n",
        "        result[key] = [values[i] for i in sample_map]\n",
        "    return result"
      ]
    },
    {
      "cell_type": "code",
      "execution_count": null,
      "metadata": {
        "id": "_fIwgvVzxlW9"
      },
      "outputs": [],
      "source": [
        "tokenized_dataset = drug_dataset.map(tokenize_and_split, batched=True)\n",
        "tokenized_dataset"
      ]
    },
    {
      "cell_type": "markdown",
      "source": [
        "다양한 라이브러리 간의 변환을 가능하게 하기 위해, 🤗 Datasets는 Dataset.set_format() 함수를 제공합니다. 이 함수는 데이터셋의 출력 형식만 변경하므로, 기본 데이터 형식인 Apache Arrow에 영향을 주지 않고 다른 형식으로 쉽게 전환할 수 있습니다. 형식 변환이 현장에서 이루어집니다. 예를 들어, 우리의 데이터셋을 Pandas로 변환하는 방법을 보여드리겠습니다:"
      ],
      "metadata": {
        "id": "rlqZ6JfT0-W1"
      }
    },
    {
      "cell_type": "code",
      "execution_count": null,
      "metadata": {
        "id": "x9ZZVhroxlW9"
      },
      "outputs": [],
      "source": [
        "drug_dataset.set_format(\"pandas\")"
      ]
    },
    {
      "cell_type": "code",
      "execution_count": null,
      "metadata": {
        "id": "_NYMq0cHxlW9"
      },
      "outputs": [],
      "source": [
        "drug_dataset[\"train\"][:3]"
      ]
    },
    {
      "cell_type": "markdown",
      "source": [
        "다음은 drug_dataset[\"train\"]의 모든 요소를 선택하여 전체 훈련 세트에 대한 pandas.DataFrame을 만드는 방법입니다:"
      ],
      "metadata": {
        "id": "HfcXWJzP1Hh8"
      }
    },
    {
      "cell_type": "code",
      "execution_count": null,
      "metadata": {
        "id": "IRipFE8uxlW9"
      },
      "outputs": [],
      "source": [
        "train_df = drug_dataset[\"train\"][:]"
      ]
    },
    {
      "cell_type": "code",
      "execution_count": null,
      "metadata": {
        "id": "TIiHWWstxlW9"
      },
      "outputs": [],
      "source": [
        "frequencies = (\n",
        "    train_df[\"condition\"]\n",
        "    .value_counts()\n",
        "    .to_frame()\n",
        "    .reset_index()\n",
        "    .rename(columns={\"index\": \"condition\", \"condition\": \"frequency\"})\n",
        ")\n",
        "frequencies.head()"
      ]
    },
    {
      "cell_type": "code",
      "execution_count": null,
      "metadata": {
        "id": "-_kzIEv9xlW9"
      },
      "outputs": [],
      "source": [
        "from datasets import Dataset\n",
        "\n",
        "freq_dataset = Dataset.from_pandas(frequencies)\n",
        "freq_dataset"
      ]
    },
    {
      "cell_type": "code",
      "execution_count": null,
      "metadata": {
        "id": "JWyPBIlqxlW9"
      },
      "outputs": [],
      "source": [
        "drug_dataset.reset_format()"
      ]
    },
    {
      "cell_type": "markdown",
      "source": [
        "우리는 평가를 위해 사용할 수 있는 테스트 세트를 가지고 있지만, 개발 도중 테스트 세트를 그대로 두고 별도의 검증 세트를 만드는 것이 좋은 관행입니다. 검증 세트에서 모델의 성능에 만족하면 테스트 세트에서 최종 정상성 검사를 수행할 수 있습니다. 이 과정은 테스트 세트에 과적합되어 실제 데이터에서 실패하는 모델을 배포하는 위험을 완화하는 데 도움이 됩니다."
      ],
      "metadata": {
        "id": "TQrgFR3R6FFZ"
      }
    },
    {
      "cell_type": "code",
      "execution_count": null,
      "metadata": {
        "id": "gq9dBvV9xlW9"
      },
      "outputs": [],
      "source": [
        "drug_dataset_clean = drug_dataset[\"train\"].train_test_split(train_size=0.8, seed=42)\n",
        "# Rename the default \"test\" split to \"validation\"\n",
        "drug_dataset_clean[\"validation\"] = drug_dataset_clean.pop(\"test\")\n",
        "# Add the \"test\" set to our `DatasetDict`\n",
        "drug_dataset_clean[\"test\"] = drug_dataset[\"test\"]\n",
        "drug_dataset_clean"
      ]
    },
    {
      "cell_type": "code",
      "execution_count": null,
      "metadata": {
        "id": "g1a7u03uxlW9"
      },
      "outputs": [],
      "source": [
        "drug_dataset_clean.save_to_disk(\"drug-reviews\")"
      ]
    },
    {
      "cell_type": "code",
      "execution_count": null,
      "metadata": {
        "id": "iz3ns2CxxlXA"
      },
      "outputs": [],
      "source": [
        "from datasets import load_from_disk\n",
        "\n",
        "drug_dataset_reloaded = load_from_disk(\"drug-reviews\")\n",
        "drug_dataset_reloaded"
      ]
    },
    {
      "cell_type": "code",
      "execution_count": null,
      "metadata": {
        "id": "cirH2mdYxlXA"
      },
      "outputs": [],
      "source": [
        "for split, dataset in drug_dataset_clean.items():\n",
        "    dataset.to_json(f\"drug-reviews-{split}.jsonl\")"
      ]
    },
    {
      "cell_type": "code",
      "execution_count": null,
      "metadata": {
        "id": "EAqW75XIxlXB"
      },
      "outputs": [],
      "source": [
        "!head -n 1 drug-reviews-train.jsonl"
      ]
    },
    {
      "cell_type": "code",
      "execution_count": null,
      "metadata": {
        "id": "fp1SuPOFxlXB"
      },
      "outputs": [],
      "source": [
        "data_files = {\n",
        "    \"train\": \"drug-reviews-train.jsonl\",\n",
        "    \"validation\": \"drug-reviews-validation.jsonl\",\n",
        "    \"test\": \"drug-reviews-test.jsonl\",\n",
        "}\n",
        "drug_dataset_reloaded = load_dataset(\"json\", data_files=data_files)"
      ]
    },
    {
      "cell_type": "markdown",
      "source": [
        "# Push your own dataset"
      ],
      "metadata": {
        "id": "AgBuk1vObyi3"
      }
    },
    {
      "cell_type": "markdown",
      "metadata": {
        "id": "b0y8CBUkvpDm"
      },
      "source": [
        "Hugging Face Hub에 로그인해야 합니다. 다음 명령을 실행하고 login credentials을 입력하세요.\n",
        "\n",
        "\n",
        "\n",
        "\n",
        "\n",
        "\n"
      ]
    },
    {
      "cell_type": "code",
      "execution_count": null,
      "metadata": {
        "id": "EW4_MgNovpDn"
      },
      "outputs": [],
      "source": [
        "from huggingface_hub import notebook_login\n",
        "\n",
        "notebook_login()"
      ]
    },
    {
      "cell_type": "code",
      "execution_count": null,
      "metadata": {
        "id": "5ozQickSvpDp"
      },
      "outputs": [],
      "source": [
        "drug_dataset_reloaded.push_to_hub(\"custom_drug_dataset\")"
      ]
    },
    {
      "cell_type": "code",
      "execution_count": null,
      "metadata": {
        "id": "d5zK_wL1vpDp"
      },
      "outputs": [],
      "source": [
        "remote_dataset = load_dataset(\"hukim1112/custom_drug_dataset\", split=\"train\")\n",
        "remote_dataset"
      ]
    },
    {
      "cell_type": "code",
      "source": [
        "remote_dataset"
      ],
      "metadata": {
        "id": "TAIJuXoUc0Aq"
      },
      "execution_count": null,
      "outputs": []
    },
    {
      "cell_type": "code",
      "source": [],
      "metadata": {
        "id": "pDEc6z15c4yh"
      },
      "execution_count": null,
      "outputs": []
    }
  ],
  "metadata": {
    "colab": {
      "provenance": [],
      "gpuType": "T4",
      "include_colab_link": true
    },
    "language_info": {
      "name": "python"
    },
    "kernelspec": {
      "name": "python3",
      "display_name": "Python 3"
    },
    "accelerator": "GPU"
  },
  "nbformat": 4,
  "nbformat_minor": 0
}